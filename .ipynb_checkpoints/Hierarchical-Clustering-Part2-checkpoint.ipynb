{
 "cells": [
  {
   "cell_type": "code",
   "execution_count": 1,
   "metadata": {},
   "outputs": [],
   "source": [
    "import numpy as np\n",
    "import pandas as pd\n",
    "from scipy.spatial.distance import pdist, squareform\n",
    "from scipy.cluster.hierarchy import linkage, dendrogram, fcluster\n",
    "import matplotlib.pyplot as plt\n",
    "from sklearn.preprocessing import StandardScaler\n",
    "from sklearn import datasets\n",
    "from itertools import combinations"
   ]
  },
  {
   "cell_type": "markdown",
   "metadata": {},
   "source": [
    "## Example Data"
   ]
  },
  {
   "cell_type": "code",
   "execution_count": 2,
   "metadata": {},
   "outputs": [],
   "source": [
    "data = np.array([[1,2],[9,-4],[5,6],[21,8]])"
   ]
  },
  {
   "cell_type": "markdown",
   "metadata": {},
   "source": [
    "## Pdist Function"
   ]
  },
  {
   "cell_type": "code",
   "execution_count": 3,
   "metadata": {},
   "outputs": [],
   "source": [
    "def my_pdist(df):\n",
    "  return np.array([np.linalg.norm(pair[0]-pair[1]) for pair in combinations(df,2)])"
   ]
  },
  {
   "cell_type": "code",
   "execution_count": 4,
   "metadata": {},
   "outputs": [
    {
     "data": {
      "text/plain": [
       "array([10.        ,  5.65685425, 20.88061302, 10.77032961, 16.97056275,\n",
       "       16.1245155 ])"
      ]
     },
     "execution_count": 4,
     "metadata": {},
     "output_type": "execute_result"
    }
   ],
   "source": [
    "pdist(data, metric='euclidean')"
   ]
  },
  {
   "cell_type": "code",
   "execution_count": 101,
   "metadata": {},
   "outputs": [
    {
     "data": {
      "text/plain": [
       "array([10.        ,  5.65685425, 20.88061302, 10.77032961, 16.97056275,\n",
       "       16.1245155 ])"
      ]
     },
     "execution_count": 101,
     "metadata": {},
     "output_type": "execute_result"
    }
   ],
   "source": [
    "distances = my_pdist(data)\n",
    "distances"
   ]
  },
  {
   "cell_type": "markdown",
   "metadata": {},
   "source": [
    "## Squareform Function"
   ]
  },
  {
   "cell_type": "code",
   "execution_count": 6,
   "metadata": {},
   "outputs": [],
   "source": [
    "def my_squareform(dist):\n",
    "    d = int(np.ceil(np.sqrt(dist.shape[0] * 2)))\n",
    "    mat = np.zeros((d,d))\n",
    "    combs = list(combinations(range(d),2))\n",
    "    for i,v in enumerate(combs):\n",
    "        mat[v] = dist[i]\n",
    "        mat[v[::-1]] = dist[i]\n",
    "    return mat"
   ]
  },
  {
   "cell_type": "code",
   "execution_count": 7,
   "metadata": {},
   "outputs": [
    {
     "data": {
      "text/plain": [
       "array([[ 0.        , 10.        ,  5.65685425, 20.88061302],\n",
       "       [10.        ,  0.        , 10.77032961, 16.97056275],\n",
       "       [ 5.65685425, 10.77032961,  0.        , 16.1245155 ],\n",
       "       [20.88061302, 16.97056275, 16.1245155 ,  0.        ]])"
      ]
     },
     "execution_count": 7,
     "metadata": {},
     "output_type": "execute_result"
    }
   ],
   "source": [
    "df_sq = my_squareform(distances)\n",
    "df_sq"
   ]
  },
  {
   "cell_type": "code",
   "execution_count": 8,
   "metadata": {},
   "outputs": [
    {
     "data": {
      "text/plain": [
       "array([[ 0.        , 10.        ,  5.65685425, 20.88061302],\n",
       "       [10.        ,  0.        , 10.77032961, 16.97056275],\n",
       "       [ 5.65685425, 10.77032961,  0.        , 16.1245155 ],\n",
       "       [20.88061302, 16.97056275, 16.1245155 ,  0.        ]])"
      ]
     },
     "execution_count": 8,
     "metadata": {},
     "output_type": "execute_result"
    }
   ],
   "source": [
    "squareform(distances)"
   ]
  },
  {
   "cell_type": "markdown",
   "metadata": {},
   "source": [
    "## Linkage Function"
   ]
  },
  {
   "cell_type": "code",
   "execution_count": 9,
   "metadata": {},
   "outputs": [
    {
     "name": "stderr",
     "output_type": "stream",
     "text": [
      "c:\\users\\erajoc7\\appdata\\local\\programs\\python\\python37\\lib\\site-packages\\ipykernel_launcher.py:1: ClusterWarning: scipy.cluster: The symmetric non-negative hollow observation matrix looks suspiciously like an uncondensed distance matrix\n",
      "  \"\"\"Entry point for launching an IPython kernel.\n"
     ]
    },
    {
     "data": {
      "text/plain": [
       "array([[ 0.        ,  2.        ,  9.33883672,  2.        ],\n",
       "       [ 1.        ,  4.        , 15.53821494,  3.        ],\n",
       "       [ 3.        ,  5.        , 26.88968289,  4.        ]])"
      ]
     },
     "execution_count": 9,
     "metadata": {},
     "output_type": "execute_result"
    }
   ],
   "source": [
    "linkage(df_sq)"
   ]
  },
  {
   "cell_type": "code",
   "execution_count": 10,
   "metadata": {},
   "outputs": [
    {
     "data": {
      "text/plain": [
       "array([[ 0.        ,  2.        ,  5.65685425,  2.        ],\n",
       "       [ 1.        ,  4.        , 10.        ,  3.        ],\n",
       "       [ 3.        ,  5.        , 16.1245155 ,  4.        ]])"
      ]
     },
     "execution_count": 10,
     "metadata": {},
     "output_type": "execute_result"
    }
   ],
   "source": [
    "linkage(distances)"
   ]
  },
  {
   "cell_type": "code",
   "execution_count": 16,
   "metadata": {},
   "outputs": [
    {
     "data": {
      "text/plain": [
       "array([10.        ,  5.65685425, 20.88061302, 10.77032961, 16.97056275,\n",
       "       16.1245155 ])"
      ]
     },
     "execution_count": 16,
     "metadata": {},
     "output_type": "execute_result"
    }
   ],
   "source": [
    "distances"
   ]
  },
  {
   "cell_type": "markdown",
   "metadata": {},
   "source": [
    "## Distances and Combinations"
   ]
  },
  {
   "cell_type": "code",
   "execution_count": 39,
   "metadata": {},
   "outputs": [
    {
     "data": {
      "text/plain": [
       "array([[0, (array([1, 2]), array([ 9, -4]))],\n",
       "       [1, (array([1, 2]), array([5, 6]))],\n",
       "       [2, (array([1, 2]), array([21,  8]))],\n",
       "       [3, (array([ 9, -4]), array([5, 6]))],\n",
       "       [4, (array([ 9, -4]), array([21,  8]))],\n",
       "       [5, (array([5, 6]), array([21,  8]))]], dtype=object)"
      ]
     },
     "execution_count": 39,
     "metadata": {},
     "output_type": "execute_result"
    }
   ],
   "source": [
    "np.array([(i,v) for i, v in enumerate(list(combinations(data,2)))])"
   ]
  },
  {
   "cell_type": "code",
   "execution_count": 105,
   "metadata": {},
   "outputs": [
    {
     "data": {
      "text/plain": [
       "[(0, 1), (0, 2), (0, 3), (1, 2), (1, 3), (2, 3)]"
      ]
     },
     "execution_count": 105,
     "metadata": {},
     "output_type": "execute_result"
    }
   ],
   "source": [
    "list(combinations(range(len(data)),2))"
   ]
  },
  {
   "cell_type": "code",
   "execution_count": 66,
   "metadata": {},
   "outputs": [
    {
     "data": {
      "text/plain": [
       "2"
      ]
     },
     "execution_count": 66,
     "metadata": {},
     "output_type": "execute_result"
    }
   ],
   "source": [
    "len(list(combinations(range(len(data)),2))[1])"
   ]
  },
  {
   "cell_type": "code",
   "execution_count": 102,
   "metadata": {},
   "outputs": [],
   "source": [
    "def my_linkage(dist):\n",
    "    d = int(np.ceil(np.sqrt(dist.shape[0] * 2)))\n",
    "    clusters = [[i] for i in range(d)]\n",
    "    mat = np.zeros((d,d))\n",
    "    dist_index = list(combinations(range(d),2))\n",
    "    for i in range(d):\n",
    "        mat[(i,0)] = dist_index[np.argmin(dist)][0]\n",
    "        mat[(i,1)] = dist_index[np.argmin(dist)][1]\n",
    "        mat[(i,2)] = distances.min()\n",
    "        mat[(i,3)] = len(dist_index[np.argmin(dist)])\n",
    "        clusters.append([i for i in dist_index[np.argmin(dist)]])\n",
    "    return mat, clusters, dist_index"
   ]
  },
  {
   "cell_type": "code",
   "execution_count": 111,
   "metadata": {},
   "outputs": [],
   "source": [
    "def my_linkage(dist):\n",
    "    d = int(np.ceil(np.sqrt(dist.shape[0] * 2)))\n",
    "    clusters = [[i] for i in range(d)]\n",
    "    cluster_points[[i] for i in range(d)]\n",
    "    mat = np.zeros((d,d))\n",
    "    dist_index = list(combinations(range(d),2))\n",
    "    for i in range(d):\n",
    "        distances = []\n",
    "        for clust in clusters:\n",
    "            for points in cluster_points:\n",
    "                \n",
    "        mat[(i,0)] = dist_index[np.argmin(dist)][0]\n",
    "        mat[(i,1)] = dist_index[np.argmin(dist)][1]\n",
    "        mat[(i,2)] = distances.min()\n",
    "        mat[(i,3)] = len(dist_index[np.argmin(dist)])\n",
    "        clusters.append([i for i in dist_index[np.argmin(dist)]])\n",
    "    return mat, clusters, dist_index"
   ]
  },
  {
   "cell_type": "code",
   "execution_count": 112,
   "metadata": {},
   "outputs": [
    {
     "data": {
      "text/plain": [
       "(array([[0.        , 2.        , 5.65685425, 2.        ],\n",
       "        [0.        , 2.        , 5.65685425, 2.        ],\n",
       "        [0.        , 2.        , 5.65685425, 2.        ],\n",
       "        [0.        , 2.        , 5.65685425, 2.        ]]),\n",
       " [[0], [1], [2], [3], [0, 2], [0, 2], [0, 2], [0, 2]],\n",
       " [(0, 1), (0, 2), (0, 3), (1, 2), (1, 3), (2, 3)])"
      ]
     },
     "execution_count": 112,
     "metadata": {},
     "output_type": "execute_result"
    }
   ],
   "source": [
    "my_linkage(distances)"
   ]
  },
  {
   "cell_type": "code",
   "execution_count": 126,
   "metadata": {},
   "outputs": [],
   "source": [
    "def clust_pop(clusts):    \n",
    "    clusters = clusts\n",
    "    clusters.pop(clusts[-1][0]) \n",
    "    clusters.pop(clusts[-1][1]-1) \n",
    "    return clusters"
   ]
  },
  {
   "cell_type": "code",
   "execution_count": 127,
   "metadata": {},
   "outputs": [
    {
     "data": {
      "text/plain": [
       "[[1], [3], [0, 2]]"
      ]
     },
     "execution_count": 127,
     "metadata": {},
     "output_type": "execute_result"
    }
   ],
   "source": [
    "clust_pop_test = [[0], [1], [2], [3], [0, 2]]\n",
    "clust_pop(clust_pop_test)"
   ]
  },
  {
   "cell_type": "code",
   "execution_count": null,
   "metadata": {},
   "outputs": [],
   "source": [
    "def clust_dist(clust1, clust2, dist):\n",
    "    d = int(np.ceil(np.sqrt(dist.shape[0] * 2)))\n",
    "    dist_index = list(combinations(range(d),2))\n",
    "    distances = []\n",
    "    for point in clust1:\n",
    "        "
   ]
  },
  {
   "cell_type": "code",
   "execution_count": null,
   "metadata": {},
   "outputs": [],
   "source": []
  },
  {
   "cell_type": "code",
   "execution_count": 11,
   "metadata": {},
   "outputs": [
    {
     "name": "stderr",
     "output_type": "stream",
     "text": [
      "c:\\users\\erajoc7\\appdata\\local\\programs\\python\\python37\\lib\\site-packages\\ipykernel_launcher.py:1: ClusterWarning: scipy.cluster: The symmetric non-negative hollow observation matrix looks suspiciously like an uncondensed distance matrix\n",
      "  \"\"\"Entry point for launching an IPython kernel.\n"
     ]
    },
    {
     "data": {
      "image/png": "[encoded data removed]",
      "text/plain": [
       "<Figure size 432x288 with 1 Axes>"
      ]
     },
     "metadata": {
      "needs_background": "light"
     },
     "output_type": "display_data"
    }
   ],
   "source": [
    "dendrogram(linkage(df_sq));"
   ]
  },
  {
   "cell_type": "code",
   "execution_count": 12,
   "metadata": {},
   "outputs": [
    {
     "data": {
      "image/png": "[encoded data removed]",
      "text/plain": [
       "<Figure size 432x288 with 1 Axes>"
      ]
     },
     "metadata": {
      "needs_background": "light"
     },
     "output_type": "display_data"
    }
   ],
   "source": [
    "dendrogram(linkage(distances));"
   ]
  },
  {
   "cell_type": "code",
   "execution_count": null,
   "metadata": {},
   "outputs": [],
   "source": []
  },
  {
   "cell_type": "code",
   "execution_count": null,
   "metadata": {},
   "outputs": [],
   "source": []
  },
  {
   "cell_type": "code",
   "execution_count": null,
   "metadata": {},
   "outputs": [],
   "source": []
  },
  {
   "cell_type": "code",
   "execution_count": null,
   "metadata": {},
   "outputs": [],
   "source": []
  }
 ],
 "metadata": {
  "kernelspec": {
   "display_name": "Python 3",
   "language": "python",
   "name": "python3"
  },
  "language_info": {
   "codemirror_mode": {
    "name": "ipython",
    "version": 3
   },
   "file_extension": ".py",
   "mimetype": "text/x-python",
   "name": "python",
   "nbconvert_exporter": "python",
   "pygments_lexer": "ipython3",
   "version": "3.7.2"
  }
 },
 "nbformat": 4,
 "nbformat_minor": 2
}
